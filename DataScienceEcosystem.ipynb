{
 "cells": [
  {
   "cell_type": "markdown",
   "id": "55d45558-52dc-451a-b9b9-0d1be3cf977f",
   "metadata": {
    "tags": []
   },
   "source": [
    "# Data Science Tools and Ecosystem\n"
   ]
  },
  {
   "cell_type": "markdown",
   "id": "2bf610b8-2c15-485e-8a53-b6354416e23b",
   "metadata": {},
   "source": [
    "In this notebook, Data Science Tools and Ecosystem are summarized.\n"
   ]
  },
  {
   "cell_type": "markdown",
   "id": "acbad6d3-5f9a-4902-9440-919aef70ca76",
   "metadata": {},
   "source": [
    "Some of the popular languages that Data Scientists use are:\n",
    "1. Python\n",
    "2. R\n",
    "3. Julia\n"
   ]
  },
  {
   "cell_type": "markdown",
   "id": "d20b5293-6e40-4e18-8d51-627e637bb901",
   "metadata": {
    "tags": []
   },
   "source": [
    "Some of the commonly used libraries used by Data Scientists include:\n",
    "1. NumPy\n",
    "2. Pandas\n",
    "3. Matplotlib\n"
   ]
  },
  {
   "cell_type": "markdown",
   "id": "0222fca1-0210-452f-b5d8-9b12a71cb3cc",
   "metadata": {},
   "source": [
    "| Data Science Tools     |\n",
    "|-------------------------|\n",
    "| Jupyter                 |\n",
    "| TensorFlow              |\n",
    "| Tableau                 |\n"
   ]
  },
  {
   "cell_type": "markdown",
   "id": "86ceed0d-79bb-4a31-9eca-a10c5b6cc8f2",
   "metadata": {},
   "source": [
    "### Below are a few examples of evaluating arithmetic expressions in Python.\n"
   ]
  },
  {
   "cell_type": "markdown",
   "id": "71732953-a7a4-4079-ad34-2a8bbe69ef4a",
   "metadata": {
    "tags": []
   },
   "source": [
    "# This is a simple arithmetic expression to multiply then add integers.\n",
    "result = (3 * 4) + 5\n",
    "result\n"
   ]
  },
  {
   "cell_type": "code",
   "execution_count": 4,
   "id": "89cb5e61-0cde-46cb-9dea-8c8dbfa062e2",
   "metadata": {
    "tags": []
   },
   "outputs": [
    {
     "data": {
      "text/plain": [
       "3.3333333333333335"
      ]
     },
     "execution_count": 4,
     "metadata": {},
     "output_type": "execute_result"
    }
   ],
   "source": [
    "# This will convert 200 minutes to hours by dividing by 60.\n",
    "minutes = 200\n",
    "hours = minutes / 60\n",
    "hours\n"
   ]
  },
  {
   "cell_type": "markdown",
   "id": "18066e8a-f204-40ba-b483-425d59dbe7cb",
   "metadata": {},
   "source": [
    "**Objectives:**\n",
    "- List popular languages for Data Science.\n",
    "- Explore commonly used libraries in Data Science.\n",
    "- Introduce key Data Science tools.\n"
   ]
  },
  {
   "cell_type": "markdown",
   "id": "791b16bc-c231-445c-8504-6faa862117ce",
   "metadata": {
    "tags": []
   },
   "source": [
    "## Author\n",
    "Jagadeesh Ravichandran"
   ]
  }
 ],
 "metadata": {
  "kernelspec": {
   "display_name": "Python",
   "language": "python",
   "name": "conda-env-python-py"
  },
  "language_info": {
   "codemirror_mode": {
    "name": "ipython",
    "version": 3
   },
   "file_extension": ".py",
   "mimetype": "text/x-python",
   "name": "python",
   "nbconvert_exporter": "python",
   "pygments_lexer": "ipython3",
   "version": "3.7.12"
  }
 },
 "nbformat": 4,
 "nbformat_minor": 5
}
